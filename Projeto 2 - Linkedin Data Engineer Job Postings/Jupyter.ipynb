{
 "cells": [
  {
   "cell_type": "code",
   "execution_count": 29,
   "id": "3a69b7ca",
   "metadata": {},
   "outputs": [
    {
     "name": "stderr",
     "output_type": "stream",
     "text": [
      "[nltk_data] Downloading package punkt to\n",
      "[nltk_data]     C:\\Users\\gusta\\AppData\\Roaming\\nltk_data...\n",
      "[nltk_data]   Package punkt is already up-to-date!\n",
      "[nltk_data] Downloading package stopwords to\n",
      "[nltk_data]     C:\\Users\\gusta\\AppData\\Roaming\\nltk_data...\n",
      "[nltk_data]   Package stopwords is already up-to-date!\n"
     ]
    }
   ],
   "source": [
    "# Pacote pandas - Documentação: https://pandas.pydata.org/pandas-docs/stable/index.html\n",
    "import pandas as pd\n",
    "\n",
    "# Pacote nltk - Documentação: https://www.nltk.org/\n",
    "import nltk\n",
    "nltk.download('punkt')\n",
    "import nltk\n",
    "nltk.download('stopwords')\n",
    "import nltk\n",
    "from nltk.corpus import stopwords\n",
    "from nltk.stem import PorterStemmer\n",
    "from collections import Counter\n",
    "\n",
    "# Pacote re - Documentação: https://docs.python.org/3/library/re.html\n",
    "import re"
   ]
  },
  {
   "cell_type": "markdown",
   "id": "224a85bc",
   "metadata": {},
   "source": [
    "## Carga de Dados"
   ]
  },
  {
   "cell_type": "code",
   "execution_count": 2,
   "id": "01060369",
   "metadata": {},
   "outputs": [],
   "source": [
    "dados = pd.read_csv('Dados/postings.csv')"
   ]
  },
  {
   "cell_type": "markdown",
   "id": "15367acc",
   "metadata": {},
   "source": [
    "## Análise Exploratória"
   ]
  },
  {
   "cell_type": "code",
   "execution_count": 3,
   "id": "159347aa",
   "metadata": {},
   "outputs": [
    {
     "data": {
      "text/html": [
       "<div>\n",
       "<style scoped>\n",
       "    .dataframe tbody tr th:only-of-type {\n",
       "        vertical-align: middle;\n",
       "    }\n",
       "\n",
       "    .dataframe tbody tr th {\n",
       "        vertical-align: top;\n",
       "    }\n",
       "\n",
       "    .dataframe thead th {\n",
       "        text-align: right;\n",
       "    }\n",
       "</style>\n",
       "<table border=\"1\" class=\"dataframe\">\n",
       "  <thead>\n",
       "    <tr style=\"text-align: right;\">\n",
       "      <th></th>\n",
       "      <th>job_title</th>\n",
       "      <th>company</th>\n",
       "      <th>job_location</th>\n",
       "      <th>job_link</th>\n",
       "      <th>first_seen</th>\n",
       "      <th>search_city</th>\n",
       "      <th>search_country</th>\n",
       "      <th>job level</th>\n",
       "      <th>job_type</th>\n",
       "      <th>job_summary</th>\n",
       "      <th>job_skills</th>\n",
       "    </tr>\n",
       "  </thead>\n",
       "  <tbody>\n",
       "    <tr>\n",
       "      <th>0</th>\n",
       "      <td>Data Engineer 2</td>\n",
       "      <td>Cook Medical</td>\n",
       "      <td>Bloomington, IN</td>\n",
       "      <td>https://www.linkedin.com/jobs/view/data-engine...</td>\n",
       "      <td>2023-12-17</td>\n",
       "      <td>Bloomington</td>\n",
       "      <td>United States</td>\n",
       "      <td>Mid senior</td>\n",
       "      <td>Onsite</td>\n",
       "      <td>Overview\\nThe Data Engineer develops, implemen...</td>\n",
       "      <td>Azure, SQL, NoSQL, SQL Server, Oracle, MongoDB...</td>\n",
       "    </tr>\n",
       "    <tr>\n",
       "      <th>1</th>\n",
       "      <td>Staff Data Engineer</td>\n",
       "      <td>Recruiting from Scratch</td>\n",
       "      <td>Bloomington, IN</td>\n",
       "      <td>https://www.linkedin.com/jobs/view/staff-data-...</td>\n",
       "      <td>2023-12-17</td>\n",
       "      <td>Bloomington</td>\n",
       "      <td>United States</td>\n",
       "      <td>Mid senior</td>\n",
       "      <td>Onsite</td>\n",
       "      <td>This is for a client of Recruiting from Scratc...</td>\n",
       "      <td>Python, Snowflake, Airflow, Kubernetes, Docker...</td>\n",
       "    </tr>\n",
       "    <tr>\n",
       "      <th>2</th>\n",
       "      <td>Senior Data Engineer, Public Company</td>\n",
       "      <td>Recruiting from Scratch</td>\n",
       "      <td>Bloomington, IN</td>\n",
       "      <td>https://www.linkedin.com/jobs/view/senior-data...</td>\n",
       "      <td>2023-12-17</td>\n",
       "      <td>Bloomington</td>\n",
       "      <td>United States</td>\n",
       "      <td>Mid senior</td>\n",
       "      <td>Onsite</td>\n",
       "      <td>This is for a client of Recruiting from Scratc...</td>\n",
       "      <td>Python, SQL, Snowflake, Airflow, Kubernetes, D...</td>\n",
       "    </tr>\n",
       "    <tr>\n",
       "      <th>3</th>\n",
       "      <td>Senior Data Engineer, Public Company</td>\n",
       "      <td>Recruiting from Scratch</td>\n",
       "      <td>Bloomington, IN</td>\n",
       "      <td>https://www.linkedin.com/jobs/view/senior-data...</td>\n",
       "      <td>2023-12-17</td>\n",
       "      <td>Bloomington</td>\n",
       "      <td>United States</td>\n",
       "      <td>Mid senior</td>\n",
       "      <td>Onsite</td>\n",
       "      <td>This is for a client of Recruiting from Scratc...</td>\n",
       "      <td>TDD, Automation, Continuous delivery, Data eng...</td>\n",
       "    </tr>\n",
       "    <tr>\n",
       "      <th>4</th>\n",
       "      <td>Senior Systems Engineer, Azure Data Platform</td>\n",
       "      <td>Cook Medical</td>\n",
       "      <td>Bloomington, IN</td>\n",
       "      <td>https://www.linkedin.com/jobs/view/senior-syst...</td>\n",
       "      <td>2023-12-17</td>\n",
       "      <td>Bloomington</td>\n",
       "      <td>United States</td>\n",
       "      <td>Mid senior</td>\n",
       "      <td>Hybrid</td>\n",
       "      <td>Overview\\nWe are seeking a talented Azure Clou...</td>\n",
       "      <td>NaN</td>\n",
       "    </tr>\n",
       "  </tbody>\n",
       "</table>\n",
       "</div>"
      ],
      "text/plain": [
       "                                      job_title                  company  \\\n",
       "0                               Data Engineer 2             Cook Medical   \n",
       "1                           Staff Data Engineer  Recruiting from Scratch   \n",
       "2          Senior Data Engineer, Public Company  Recruiting from Scratch   \n",
       "3          Senior Data Engineer, Public Company  Recruiting from Scratch   \n",
       "4  Senior Systems Engineer, Azure Data Platform             Cook Medical   \n",
       "\n",
       "      job_location                                           job_link  \\\n",
       "0  Bloomington, IN  https://www.linkedin.com/jobs/view/data-engine...   \n",
       "1  Bloomington, IN  https://www.linkedin.com/jobs/view/staff-data-...   \n",
       "2  Bloomington, IN  https://www.linkedin.com/jobs/view/senior-data...   \n",
       "3  Bloomington, IN  https://www.linkedin.com/jobs/view/senior-data...   \n",
       "4  Bloomington, IN  https://www.linkedin.com/jobs/view/senior-syst...   \n",
       "\n",
       "   first_seen  search_city search_country   job level job_type  \\\n",
       "0  2023-12-17  Bloomington  United States  Mid senior   Onsite   \n",
       "1  2023-12-17  Bloomington  United States  Mid senior   Onsite   \n",
       "2  2023-12-17  Bloomington  United States  Mid senior   Onsite   \n",
       "3  2023-12-17  Bloomington  United States  Mid senior   Onsite   \n",
       "4  2023-12-17  Bloomington  United States  Mid senior   Hybrid   \n",
       "\n",
       "                                         job_summary  \\\n",
       "0  Overview\\nThe Data Engineer develops, implemen...   \n",
       "1  This is for a client of Recruiting from Scratc...   \n",
       "2  This is for a client of Recruiting from Scratc...   \n",
       "3  This is for a client of Recruiting from Scratc...   \n",
       "4  Overview\\nWe are seeking a talented Azure Clou...   \n",
       "\n",
       "                                          job_skills  \n",
       "0  Azure, SQL, NoSQL, SQL Server, Oracle, MongoDB...  \n",
       "1  Python, Snowflake, Airflow, Kubernetes, Docker...  \n",
       "2  Python, SQL, Snowflake, Airflow, Kubernetes, D...  \n",
       "3  TDD, Automation, Continuous delivery, Data eng...  \n",
       "4                                                NaN  "
      ]
     },
     "execution_count": 3,
     "metadata": {},
     "output_type": "execute_result"
    }
   ],
   "source": [
    "dados.head()"
   ]
  },
  {
   "cell_type": "markdown",
   "id": "f4ca8e7a",
   "metadata": {},
   "source": [
    "## Tranformação e Limpeza"
   ]
  },
  {
   "cell_type": "code",
   "execution_count": 4,
   "id": "68ff2c4b",
   "metadata": {},
   "outputs": [
    {
     "name": "stdout",
     "output_type": "stream",
     "text": [
      "18990\n"
     ]
    },
    {
     "data": {
      "text/html": [
       "<div>\n",
       "<style scoped>\n",
       "    .dataframe tbody tr th:only-of-type {\n",
       "        vertical-align: middle;\n",
       "    }\n",
       "\n",
       "    .dataframe tbody tr th {\n",
       "        vertical-align: top;\n",
       "    }\n",
       "\n",
       "    .dataframe thead th {\n",
       "        text-align: right;\n",
       "    }\n",
       "</style>\n",
       "<table border=\"1\" class=\"dataframe\">\n",
       "  <thead>\n",
       "    <tr style=\"text-align: right;\">\n",
       "      <th></th>\n",
       "      <th>Job Skill</th>\n",
       "      <th>Count</th>\n",
       "    </tr>\n",
       "  </thead>\n",
       "  <tbody>\n",
       "    <tr>\n",
       "      <th>0</th>\n",
       "      <td>Azure</td>\n",
       "      <td>92</td>\n",
       "    </tr>\n",
       "    <tr>\n",
       "      <th>1</th>\n",
       "      <td>SQL</td>\n",
       "      <td>2692</td>\n",
       "    </tr>\n",
       "    <tr>\n",
       "      <th>2</th>\n",
       "      <td>NoSQL</td>\n",
       "      <td>378</td>\n",
       "    </tr>\n",
       "    <tr>\n",
       "      <th>3</th>\n",
       "      <td>SQL Server</td>\n",
       "      <td>174</td>\n",
       "    </tr>\n",
       "    <tr>\n",
       "      <th>4</th>\n",
       "      <td>Oracle</td>\n",
       "      <td>252</td>\n",
       "    </tr>\n",
       "  </tbody>\n",
       "</table>\n",
       "</div>"
      ],
      "text/plain": [
       "     Job Skill  Count\n",
       "0        Azure     92\n",
       "1          SQL   2692\n",
       "2        NoSQL    378\n",
       "3   SQL Server    174\n",
       "4       Oracle    252"
      ]
     },
     "execution_count": 4,
     "metadata": {},
     "output_type": "execute_result"
    }
   ],
   "source": [
    "# Tratamento da coluna \"job_skills\"\n",
    "# Aqui eu crio um dataframe com o nome da skill e um contador de quantas vezes ela aparece.\n",
    "skills_list = []\n",
    "skills_count = {}\n",
    "for obs in dados['job_skills']:\n",
    "    if type(obs) == str:\n",
    "        aux = obs.split(',')\n",
    "        for skill in aux:\n",
    "            if skill not in skills_list:\n",
    "                skills_list.append(skill)\n",
    "                skills_count[skill] = 1  \n",
    "            else:\n",
    "                skills_count[skill] += 1\n",
    "                \n",
    "print(len(skills_list))\n",
    "df_skills = pd.DataFrame(list(skills_count.items()), columns=['Job Skill', 'Count'])\n",
    "df_skills.head()"
   ]
  },
  {
   "cell_type": "code",
   "execution_count": 32,
   "id": "76c85a33",
   "metadata": {},
   "outputs": [
    {
     "name": "stdout",
     "output_type": "stream",
     "text": [
      "[('data', 5781), ('engin', 4064), ('senior', 1845), ('analyst', 1330), ('lead', 372), ('remot', 341), ('staff', 322), ('sr.', 297), ('databas', 230), ('scientist', 208)]\n"
     ]
    }
   ],
   "source": [
    "# Processamento de linguagem natural (NLP)\n",
    "\n",
    "# Armazenar coluna 'job_title' em um novo dataframe 'df_titles'\n",
    "df_titles = dados['job_title']\n",
    "\n",
    "# Converter para minúsculas\n",
    "df_titles = df_titles.str.lower()\n",
    "\n",
    "# Remover caracteres indesejados\n",
    "def clean_text(text):\n",
    "    cleaned_text = re.sub(r'[-,()]', '', text)\n",
    "    return cleaned_text\n",
    "\n",
    "df_titles = df_titles.apply(clean_text)\n",
    "\n",
    "# Tokenização\n",
    "df_titles = df_titles.apply(nltk.word_tokenize)\n",
    "\n",
    "# Remoção de Stop Words\n",
    "stop_words = set(stopwords.words('english'))\n",
    "df_titles = df_titles.apply(lambda x: [word for word in x if word not in stop_words])\n",
    "\n",
    "# Stemming\n",
    "stemmer = PorterStemmer()\n",
    "df_titles = df_titles.apply(lambda x: [stemmer.stem(word) for word in x])\n",
    "\n",
    "# Contagem de palavras com mais frequência\n",
    "flattened_titles = [token for title in df_titles for token in title]\n",
    "word_frequency = Counter(flattened_titles)\n",
    "most_common_jobs = word_frequency.most_common(10)\n",
    "\n",
    "# Visualização de palavras com mais frequência\n",
    "print(most_common_jobs)"
   ]
  },
  {
   "cell_type": "code",
   "execution_count": 6,
   "id": "43c76d71",
   "metadata": {},
   "outputs": [],
   "source": [
    "# Converter dados para CSV\n",
    "# dados é transformado em CSV \"newPostings\" para manter o index\n",
    "dados.to_csv('Dados/newPostings.csv')\n",
    "\n",
    "# Transformar o df_skills em arquivo CSV.\n",
    "df_skills.to_csv('Dados/Jobs.csv')"
   ]
  }
 ],
 "metadata": {
  "kernelspec": {
   "display_name": "Python 3 (ipykernel)",
   "language": "python",
   "name": "python3"
  },
  "language_info": {
   "codemirror_mode": {
    "name": "ipython",
    "version": 3
   },
   "file_extension": ".py",
   "mimetype": "text/x-python",
   "name": "python",
   "nbconvert_exporter": "python",
   "pygments_lexer": "ipython3",
   "version": "3.11.5"
  }
 },
 "nbformat": 4,
 "nbformat_minor": 5
}
