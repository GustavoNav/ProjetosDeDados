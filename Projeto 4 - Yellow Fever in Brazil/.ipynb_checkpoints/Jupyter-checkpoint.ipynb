{
 "cells": [
  {
   "cell_type": "markdown",
   "id": "9ffb6382-b2bd-4e65-abed-52444a0e67ee",
   "metadata": {},
   "source": [
    "## Packages"
   ]
  },
  {
   "cell_type": "code",
   "execution_count": 1,
   "id": "a8ef8429-b7f0-4341-a907-b95704e14dc0",
   "metadata": {},
   "outputs": [],
   "source": [
    "# Package pandas: https://pandas.pydata.org/docs/user_guide/index.html#user-guide\n",
    "import pandas as pd\n",
    "\n",
    "# Package matplotlib: https://matplotlib.org/stable/api/_as_gen/matplotlib.axes.Axes.bar.html\n",
    "import matplotlib.pyplot as plt"
   ]
  },
  {
   "cell_type": "markdown",
   "id": "7fd17931-aaf6-4d70-a72d-63f02b80ad45",
   "metadata": {},
   "source": [
    "## Data Loading"
   ]
  },
  {
   "cell_type": "code",
   "execution_count": 2,
   "id": "ef3a5746-350d-412c-b775-c23cea879287",
   "metadata": {},
   "outputs": [],
   "source": [
    "df_humans = pd.read_csv('Data/fa_casoshumanos_1994-2021.csv', encoding='ISO-8859-1', sep=';', decimal = ',')"
   ]
  },
  {
   "cell_type": "markdown",
   "id": "5a07f8c4-715b-48ca-822e-03d34bb84f87",
   "metadata": {},
   "source": [
    "## Exploratory Analysis"
   ]
  },
  {
   "cell_type": "code",
   "execution_count": 3,
   "id": "5c8aed7d-3f10-4d8d-b4f7-f06df8602882",
   "metadata": {},
   "outputs": [
    {
     "data": {
      "text/html": [
       "<div>\n",
       "<style scoped>\n",
       "    .dataframe tbody tr th:only-of-type {\n",
       "        vertical-align: middle;\n",
       "    }\n",
       "\n",
       "    .dataframe tbody tr th {\n",
       "        vertical-align: top;\n",
       "    }\n",
       "\n",
       "    .dataframe thead th {\n",
       "        text-align: right;\n",
       "    }\n",
       "</style>\n",
       "<table border=\"1\" class=\"dataframe\">\n",
       "  <thead>\n",
       "    <tr style=\"text-align: right;\">\n",
       "      <th></th>\n",
       "      <th>ID</th>\n",
       "      <th>MACRORREG_LPI</th>\n",
       "      <th>COD_UF_LPI</th>\n",
       "      <th>UF_LPI</th>\n",
       "      <th>COD_MUN_LPI</th>\n",
       "      <th>MUN_LPI</th>\n",
       "      <th>SEXO</th>\n",
       "      <th>IDADE</th>\n",
       "      <th>DT_IS</th>\n",
       "      <th>SE_IS</th>\n",
       "      <th>MES_IS</th>\n",
       "      <th>ANO_IS</th>\n",
       "      <th>MONITORAMENTO_IS</th>\n",
       "      <th>OBITO</th>\n",
       "    </tr>\n",
       "  </thead>\n",
       "  <tbody>\n",
       "    <tr>\n",
       "      <th>0</th>\n",
       "      <td>1</td>\n",
       "      <td>N</td>\n",
       "      <td>14</td>\n",
       "      <td>RR</td>\n",
       "      <td>140005.0</td>\n",
       "      <td>Alto Alegre</td>\n",
       "      <td>M</td>\n",
       "      <td>NaN</td>\n",
       "      <td>29/11/1994</td>\n",
       "      <td>48.0</td>\n",
       "      <td>11.0</td>\n",
       "      <td>1994</td>\n",
       "      <td>1994/1995</td>\n",
       "      <td>SIM</td>\n",
       "    </tr>\n",
       "    <tr>\n",
       "      <th>1</th>\n",
       "      <td>2</td>\n",
       "      <td>N</td>\n",
       "      <td>14</td>\n",
       "      <td>RR</td>\n",
       "      <td>140045.0</td>\n",
       "      <td>Pacaraima</td>\n",
       "      <td>M</td>\n",
       "      <td>19.0</td>\n",
       "      <td>19/02/1995</td>\n",
       "      <td>8.0</td>\n",
       "      <td>2.0</td>\n",
       "      <td>1995</td>\n",
       "      <td>1994/1995</td>\n",
       "      <td>NÃO</td>\n",
       "    </tr>\n",
       "    <tr>\n",
       "      <th>2</th>\n",
       "      <td>3</td>\n",
       "      <td>NE</td>\n",
       "      <td>21</td>\n",
       "      <td>MA</td>\n",
       "      <td>210060.0</td>\n",
       "      <td>Amarante do Maranhão</td>\n",
       "      <td>M</td>\n",
       "      <td>32.0</td>\n",
       "      <td>01/04/1995</td>\n",
       "      <td>13.0</td>\n",
       "      <td>4.0</td>\n",
       "      <td>1995</td>\n",
       "      <td>1994/1995</td>\n",
       "      <td>IGN</td>\n",
       "    </tr>\n",
       "    <tr>\n",
       "      <th>3</th>\n",
       "      <td>4</td>\n",
       "      <td>NE</td>\n",
       "      <td>21</td>\n",
       "      <td>MA</td>\n",
       "      <td>210060.0</td>\n",
       "      <td>Amarante do Maranhão</td>\n",
       "      <td>M</td>\n",
       "      <td>33.0</td>\n",
       "      <td>03/04/1995</td>\n",
       "      <td>14.0</td>\n",
       "      <td>4.0</td>\n",
       "      <td>1995</td>\n",
       "      <td>1994/1995</td>\n",
       "      <td>SIM</td>\n",
       "    </tr>\n",
       "    <tr>\n",
       "      <th>4</th>\n",
       "      <td>5</td>\n",
       "      <td>N</td>\n",
       "      <td>15</td>\n",
       "      <td>PA</td>\n",
       "      <td>150270.0</td>\n",
       "      <td>Conceição do Araguaia</td>\n",
       "      <td>M</td>\n",
       "      <td>26.0</td>\n",
       "      <td>12/04/1995</td>\n",
       "      <td>15.0</td>\n",
       "      <td>4.0</td>\n",
       "      <td>1995</td>\n",
       "      <td>1994/1995</td>\n",
       "      <td>SIM</td>\n",
       "    </tr>\n",
       "  </tbody>\n",
       "</table>\n",
       "</div>"
      ],
      "text/plain": [
       "   ID MACRORREG_LPI  COD_UF_LPI UF_LPI  COD_MUN_LPI                MUN_LPI  \\\n",
       "0   1             N          14     RR     140005.0            Alto Alegre   \n",
       "1   2             N          14     RR     140045.0              Pacaraima   \n",
       "2   3            NE          21     MA     210060.0   Amarante do Maranhão   \n",
       "3   4            NE          21     MA     210060.0   Amarante do Maranhão   \n",
       "4   5             N          15     PA     150270.0  Conceição do Araguaia   \n",
       "\n",
       "  SEXO  IDADE       DT_IS  SE_IS  MES_IS  ANO_IS MONITORAMENTO_IS OBITO  \n",
       "0    M    NaN  29/11/1994   48.0    11.0    1994        1994/1995   SIM  \n",
       "1    M   19.0  19/02/1995    8.0     2.0    1995        1994/1995   NÃO  \n",
       "2    M   32.0  01/04/1995   13.0     4.0    1995        1994/1995   IGN  \n",
       "3    M   33.0  03/04/1995   14.0     4.0    1995        1994/1995   SIM  \n",
       "4    M   26.0  12/04/1995   15.0     4.0    1995        1994/1995   SIM  "
      ]
     },
     "execution_count": 3,
     "metadata": {},
     "output_type": "execute_result"
    }
   ],
   "source": [
    "df_humans.head()"
   ]
  },
  {
   "cell_type": "code",
   "execution_count": 4,
   "id": "ec933f16-291f-4165-825a-861af88cc8a0",
   "metadata": {},
   "outputs": [
    {
     "name": "stdout",
     "output_type": "stream",
     "text": [
      "<class 'pandas.core.frame.DataFrame'>\n",
      "RangeIndex: 2758 entries, 0 to 2757\n",
      "Data columns (total 14 columns):\n",
      " #   Column            Non-Null Count  Dtype  \n",
      "---  ------            --------------  -----  \n",
      " 0   ID                2758 non-null   int64  \n",
      " 1   MACRORREG_LPI     2758 non-null   object \n",
      " 2   COD_UF_LPI        2758 non-null   int64  \n",
      " 3   UF_LPI            2758 non-null   object \n",
      " 4   COD_MUN_LPI       2751 non-null   float64\n",
      " 5   MUN_LPI           2752 non-null   object \n",
      " 6   SEXO              2757 non-null   object \n",
      " 7   IDADE             2756 non-null   float64\n",
      " 8   DT_IS             2753 non-null   object \n",
      " 9   SE_IS             2742 non-null   float64\n",
      " 10  MES_IS            2747 non-null   float64\n",
      " 11  ANO_IS            2758 non-null   int64  \n",
      " 12  MONITORAMENTO_IS  2758 non-null   object \n",
      " 13  OBITO             2758 non-null   object \n",
      "dtypes: float64(4), int64(3), object(7)\n",
      "memory usage: 301.8+ KB\n"
     ]
    }
   ],
   "source": [
    "df_humans.info()"
   ]
  },
  {
   "cell_type": "code",
   "execution_count": 5,
   "id": "4d81f9cb-402f-4292-a2bb-3ee99774aec1",
   "metadata": {
    "scrolled": true
   },
   "outputs": [
    {
     "data": {
      "text/plain": [
       "ID                   0\n",
       "MACRORREG_LPI        0\n",
       "COD_UF_LPI           0\n",
       "UF_LPI               0\n",
       "COD_MUN_LPI          7\n",
       "MUN_LPI              6\n",
       "SEXO                 1\n",
       "IDADE                2\n",
       "DT_IS                5\n",
       "SE_IS               16\n",
       "MES_IS              11\n",
       "ANO_IS               0\n",
       "MONITORAMENTO_IS     0\n",
       "OBITO                0\n",
       "dtype: int64"
      ]
     },
     "execution_count": 5,
     "metadata": {},
     "output_type": "execute_result"
    }
   ],
   "source": [
    "df_humans.isnull().sum()"
   ]
  },
  {
   "cell_type": "code",
   "execution_count": 6,
   "id": "1082ede4-b57a-499f-aba5-66b18f8643d2",
   "metadata": {},
   "outputs": [
    {
     "data": {
      "image/png": "[encoded data removed]",
      "text/plain": [
       "<Figure size 640x480 with 1 Axes>"
      ]
     },
     "metadata": {},
     "output_type": "display_data"
    }
   ],
   "source": [
    "# The graph shows the Age Distribution\n",
    "\n",
    "ages = df_humans['IDADE'].dropna()\n",
    "xticks = [x for x in range(int(min(ages)), int(max(ages)) + 10, 10)]\n",
    "\n",
    "plt.hist(ages, bins=40)\n",
    "plt.xticks(xticks)\n",
    "plt.xlabel('Age')\n",
    "plt.ylabel('Values')\n",
    "plt.title('Age Distribution')\n",
    "plt.show()"
   ]
  },
  {
   "cell_type": "code",
   "execution_count": 7,
   "id": "6c9565c8-a2e6-4a8a-aefc-c3ed396acf15",
   "metadata": {},
   "outputs": [
    {
     "data": {
      "text/html": [
       "<div>\n",
       "<style scoped>\n",
       "    .dataframe tbody tr th:only-of-type {\n",
       "        vertical-align: middle;\n",
       "    }\n",
       "\n",
       "    .dataframe tbody tr th {\n",
       "        vertical-align: top;\n",
       "    }\n",
       "\n",
       "    .dataframe thead th {\n",
       "        text-align: right;\n",
       "    }\n",
       "</style>\n",
       "<table border=\"1\" class=\"dataframe\">\n",
       "  <thead>\n",
       "    <tr style=\"text-align: right;\">\n",
       "      <th></th>\n",
       "      <th>ID</th>\n",
       "      <th>MACRORREG_LPI</th>\n",
       "      <th>COD_UF_LPI</th>\n",
       "      <th>UF_LPI</th>\n",
       "      <th>COD_MUN_LPI</th>\n",
       "      <th>MUN_LPI</th>\n",
       "      <th>SEXO</th>\n",
       "      <th>IDADE</th>\n",
       "      <th>DT_IS</th>\n",
       "      <th>SE_IS</th>\n",
       "      <th>MES_IS</th>\n",
       "      <th>ANO_IS</th>\n",
       "      <th>MONITORAMENTO_IS</th>\n",
       "      <th>OBITO</th>\n",
       "    </tr>\n",
       "  </thead>\n",
       "  <tbody>\n",
       "    <tr>\n",
       "      <th>0</th>\n",
       "      <td>1</td>\n",
       "      <td>N</td>\n",
       "      <td>14</td>\n",
       "      <td>RR</td>\n",
       "      <td>140005.0</td>\n",
       "      <td>Alto Alegre</td>\n",
       "      <td>M</td>\n",
       "      <td>NaN</td>\n",
       "      <td>29/11/1994</td>\n",
       "      <td>48.0</td>\n",
       "      <td>11.0</td>\n",
       "      <td>1994</td>\n",
       "      <td>1994/1995</td>\n",
       "      <td>SIM</td>\n",
       "    </tr>\n",
       "    <tr>\n",
       "      <th>2631</th>\n",
       "      <td>2632</td>\n",
       "      <td>SE</td>\n",
       "      <td>31</td>\n",
       "      <td>MG</td>\n",
       "      <td>314610.0</td>\n",
       "      <td>OURO PRETO</td>\n",
       "      <td>NaN</td>\n",
       "      <td>NaN</td>\n",
       "      <td>NaN</td>\n",
       "      <td>NaN</td>\n",
       "      <td>1.0</td>\n",
       "      <td>2018</td>\n",
       "      <td>2017/2018</td>\n",
       "      <td>IGN</td>\n",
       "    </tr>\n",
       "  </tbody>\n",
       "</table>\n",
       "</div>"
      ],
      "text/plain": [
       "        ID MACRORREG_LPI  COD_UF_LPI UF_LPI  COD_MUN_LPI      MUN_LPI SEXO  \\\n",
       "0        1             N          14     RR     140005.0  Alto Alegre    M   \n",
       "2631  2632            SE          31     MG     314610.0   OURO PRETO  NaN   \n",
       "\n",
       "      IDADE       DT_IS  SE_IS  MES_IS  ANO_IS MONITORAMENTO_IS OBITO  \n",
       "0       NaN  29/11/1994   48.0    11.0    1994        1994/1995   SIM  \n",
       "2631    NaN         NaN    NaN     1.0    2018        2017/2018   IGN  "
      ]
     },
     "execution_count": 7,
     "metadata": {},
     "output_type": "execute_result"
    }
   ],
   "source": [
    "df_humans.loc[df_humans['IDADE'].isnull()]"
   ]
  },
  {
   "cell_type": "code",
   "execution_count": 8,
   "id": "ac6947e8-418c-4a6d-a900-da456a57184a",
   "metadata": {},
   "outputs": [
    {
     "name": "stdout",
     "output_type": "stream",
     "text": [
      "['M' 'F' nan]\n"
     ]
    }
   ],
   "source": [
    "print(df_humans['SEXO'].unique())"
   ]
  },
  {
   "cell_type": "code",
   "execution_count": 9,
   "id": "9f9eabf7-4f29-4fbb-9a42-9d4ed1fbf91a",
   "metadata": {},
   "outputs": [
    {
     "data": {
      "image/png": "[encoded data removed]",
      "text/plain": [
       "<Figure size 640x480 with 1 Axes>"
      ]
     },
     "metadata": {},
     "output_type": "display_data"
    }
   ],
   "source": [
    "# The graph shows the count of deaths due to yellow fever\n",
    "\n",
    "# 'NÃO' means no, 'SIM' mean yes, and 'IGN' is ignored\n",
    "count_obito = df_humans['OBITO'].value_counts()\n",
    "plt.bar(count_obito.index, count_obito.values)\n",
    "plt.ylabel('Count')\n",
    "plt.xlabel('Situation(NO, YES, UNK)')\n",
    "plt.title('Count of Deaths due to yellow fever')\n",
    "plt.show()"
   ]
  },
  {
   "cell_type": "markdown",
   "id": "62e6398a-222b-4548-ba86-950951c01d3b",
   "metadata": {},
   "source": [
    "## Data Transformation and Cleansing"
   ]
  },
  {
   "cell_type": "code",
   "execution_count": 10,
   "id": "83971e1c-d21d-4584-9397-16d4cbe4116e",
   "metadata": {},
   "outputs": [],
   "source": [
    "# Removing NULL values\n",
    "df_humans = df_humans.dropna(subset=['SEXO', 'IDADE', 'DT_IS'])"
   ]
  },
  {
   "cell_type": "code",
   "execution_count": 11,
   "id": "a9d94fd0-d5f8-45aa-9d2b-6dd4f3418128",
   "metadata": {},
   "outputs": [
    {
     "data": {
      "text/plain": [
       "ID                   0\n",
       "MACRORREG_LPI        0\n",
       "COD_UF_LPI           0\n",
       "UF_LPI               0\n",
       "COD_MUN_LPI          7\n",
       "MUN_LPI              6\n",
       "SEXO                 0\n",
       "IDADE                0\n",
       "DT_IS                0\n",
       "SE_IS               11\n",
       "MES_IS               9\n",
       "ANO_IS               0\n",
       "MONITORAMENTO_IS     0\n",
       "OBITO                0\n",
       "dtype: int64"
      ]
     },
     "execution_count": 11,
     "metadata": {},
     "output_type": "execute_result"
    }
   ],
   "source": [
    "df_humans.isnull().sum()"
   ]
  },
  {
   "cell_type": "code",
   "execution_count": 12,
   "id": "ecf8dca4-98b9-4364-91c6-f5b2b2480a06",
   "metadata": {},
   "outputs": [],
   "source": [
    "# There are some strings in the collumn\n",
    "df_humans = df_humans.loc[df_humans['DT_IS'] != 'Assintomático']\n",
    "\n",
    "# There are some invalid days in the collumn\n",
    "df_humans['DT_IS'] = df_humans['DT_IS'].str.replace('00/', '01/')\n",
    "\n",
    "\n",
    "df_humans['DT_IS'] = pd.to_datetime(df_humans['DT_IS'], dayfirst=True)\n",
    "df_humans['MONTHS'] = df_humans['DT_IS'].dt.strftime('%B')\n",
    "\n",
    "\n",
    "uf_to_estado = {\n",
    "    'AC': 'Acre',\n",
    "    'AL': 'Alagoas',\n",
    "    'AP': 'Amapa',\n",
    "    'AM': 'Amazonas',\n",
    "    'BA': 'Bahia',\n",
    "    'CE': 'Ceara',\n",
    "    'DF': 'Distrito Federal',\n",
    "    'ES': 'Espirito Santo',\n",
    "    'GO': 'Goias',\n",
    "    'MA': 'Maranhao',\n",
    "    'MT': 'Mato Grosso',\n",
    "    'MS': 'Mato Grosso do Sul',\n",
    "    'MG': 'Minas Gerais',\n",
    "    'PA': 'Para',\n",
    "    'PB': 'Paraiba',\n",
    "    'PR': 'Parana',\n",
    "    'PE': 'Pernambuco',\n",
    "    'PI': 'Piaui',\n",
    "    'RJ': 'Rio de Janeiro',\n",
    "    'RN': 'Rio Grande do Norte',\n",
    "    'RS': 'Rio Grande do Sul',\n",
    "    'RO': 'Rondonia',\n",
    "    'RR': 'Roraima',\n",
    "    'SC': 'Santa Catarina',\n",
    "    'SP': 'Sao Paulo',\n",
    "    'SE': 'Sergipe',\n",
    "    'TO': 'Tocantins'\n",
    "}\n",
    "\n",
    "\n",
    "# Creating a new column which contains the full name of states\n",
    "df_humans['ESTADO'] = df_humans['UF_LPI'].map(uf_to_estado)"
   ]
  },
  {
   "cell_type": "code",
   "execution_count": 13,
   "id": "076375d6-7b58-482a-8fd1-4cefcb0b4a7a",
   "metadata": {},
   "outputs": [
    {
     "name": "stdout",
     "output_type": "stream",
     "text": [
      "<class 'pandas.core.frame.DataFrame'>\n",
      "Index: 2743 entries, 1 to 2757\n",
      "Data columns (total 16 columns):\n",
      " #   Column            Non-Null Count  Dtype         \n",
      "---  ------            --------------  -----         \n",
      " 0   ID                2743 non-null   int64         \n",
      " 1   MACRORREG_LPI     2743 non-null   object        \n",
      " 2   COD_UF_LPI        2743 non-null   int64         \n",
      " 3   UF_LPI            2743 non-null   object        \n",
      " 4   COD_MUN_LPI       2736 non-null   float64       \n",
      " 5   MUN_LPI           2737 non-null   object        \n",
      " 6   SEXO              2743 non-null   object        \n",
      " 7   IDADE             2743 non-null   float64       \n",
      " 8   DT_IS             2743 non-null   datetime64[ns]\n",
      " 9   SE_IS             2741 non-null   float64       \n",
      " 10  MES_IS            2743 non-null   float64       \n",
      " 11  ANO_IS            2743 non-null   int64         \n",
      " 12  MONITORAMENTO_IS  2743 non-null   object        \n",
      " 13  OBITO             2743 non-null   object        \n",
      " 14  MONTHS            2743 non-null   object        \n",
      " 15  ESTADO            2743 non-null   object        \n",
      "dtypes: datetime64[ns](1), float64(4), int64(3), object(8)\n",
      "memory usage: 364.3+ KB\n"
     ]
    }
   ],
   "source": [
    "df_humans.info()"
   ]
  },
  {
   "cell_type": "code",
   "execution_count": 14,
   "id": "94593be2-a12e-43d0-83e4-b4d1a345d864",
   "metadata": {},
   "outputs": [
    {
     "data": {
      "text/plain": [
       "1              Roraima\n",
       "2             Maranhao\n",
       "3             Maranhao\n",
       "4                 Para\n",
       "5             Amazonas\n",
       "             ...      \n",
       "2753    Santa Catarina\n",
       "2754    Santa Catarina\n",
       "2755              Para\n",
       "2756              Para\n",
       "2757              Para\n",
       "Name: ESTADO, Length: 2743, dtype: object"
      ]
     },
     "execution_count": 14,
     "metadata": {},
     "output_type": "execute_result"
    }
   ],
   "source": [
    "df_humans['ESTADO']"
   ]
  },
  {
   "cell_type": "code",
   "execution_count": 15,
   "id": "79223c5e-1e5b-493d-b756-1df20f02633e",
   "metadata": {},
   "outputs": [],
   "source": [
    "df_humans.to_csv('Data/humansNew2.csv')"
   ]
  }
 ],
 "metadata": {
  "kernelspec": {
   "display_name": "Python 3 (ipykernel)",
   "language": "python",
   "name": "python3"
  },
  "language_info": {
   "codemirror_mode": {
    "name": "ipython",
    "version": 3
   },
   "file_extension": ".py",
   "mimetype": "text/x-python",
   "name": "python",
   "nbconvert_exporter": "python",
   "pygments_lexer": "ipython3",
   "version": "3.11.5"
  }
 },
 "nbformat": 4,
 "nbformat_minor": 5
}
